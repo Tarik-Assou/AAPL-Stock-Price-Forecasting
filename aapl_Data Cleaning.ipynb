{
 "cells": [
  {
   "cell_type": "code",
   "execution_count": 1,
   "metadata": {},
   "outputs": [
    {
     "data": {
      "text/html": [
       "<div>\n",
       "<style scoped>\n",
       "    .dataframe tbody tr th:only-of-type {\n",
       "        vertical-align: middle;\n",
       "    }\n",
       "\n",
       "    .dataframe tbody tr th {\n",
       "        vertical-align: top;\n",
       "    }\n",
       "\n",
       "    .dataframe thead th {\n",
       "        text-align: right;\n",
       "    }\n",
       "</style>\n",
       "<table border=\"1\" class=\"dataframe\">\n",
       "  <thead>\n",
       "    <tr style=\"text-align: right;\">\n",
       "      <th></th>\n",
       "      <th>Date</th>\n",
       "      <th>Close/Last</th>\n",
       "      <th>Volume</th>\n",
       "      <th>Open</th>\n",
       "      <th>High</th>\n",
       "      <th>Low</th>\n",
       "    </tr>\n",
       "  </thead>\n",
       "  <tbody>\n",
       "    <tr>\n",
       "      <td>0</td>\n",
       "      <td>06/23/2020</td>\n",
       "      <td>$366.53</td>\n",
       "      <td>53038870</td>\n",
       "      <td>$364</td>\n",
       "      <td>$372.38</td>\n",
       "      <td>$362.2701</td>\n",
       "    </tr>\n",
       "    <tr>\n",
       "      <td>1</td>\n",
       "      <td>06/22/2020</td>\n",
       "      <td>$358.87</td>\n",
       "      <td>33861320</td>\n",
       "      <td>$351.34</td>\n",
       "      <td>$359.46</td>\n",
       "      <td>$351.15</td>\n",
       "    </tr>\n",
       "    <tr>\n",
       "      <td>2</td>\n",
       "      <td>06/19/2020</td>\n",
       "      <td>$349.72</td>\n",
       "      <td>66118950</td>\n",
       "      <td>$354.635</td>\n",
       "      <td>$356.56</td>\n",
       "      <td>$345.15</td>\n",
       "    </tr>\n",
       "    <tr>\n",
       "      <td>3</td>\n",
       "      <td>06/18/2020</td>\n",
       "      <td>$351.73</td>\n",
       "      <td>24205100</td>\n",
       "      <td>$351.41</td>\n",
       "      <td>$353.45</td>\n",
       "      <td>$349.22</td>\n",
       "    </tr>\n",
       "    <tr>\n",
       "      <td>4</td>\n",
       "      <td>06/17/2020</td>\n",
       "      <td>$351.59</td>\n",
       "      <td>28601630</td>\n",
       "      <td>$355.15</td>\n",
       "      <td>$355.4</td>\n",
       "      <td>$351.09</td>\n",
       "    </tr>\n",
       "  </tbody>\n",
       "</table>\n",
       "</div>"
      ],
      "text/plain": [
       "         Date  Close/Last    Volume       Open      High         Low\n",
       "0  06/23/2020     $366.53  53038870       $364   $372.38   $362.2701\n",
       "1  06/22/2020     $358.87  33861320    $351.34   $359.46     $351.15\n",
       "2  06/19/2020     $349.72  66118950   $354.635   $356.56     $345.15\n",
       "3  06/18/2020     $351.73  24205100    $351.41   $353.45     $349.22\n",
       "4  06/17/2020     $351.59  28601630    $355.15    $355.4     $351.09"
      ]
     },
     "execution_count": 1,
     "metadata": {},
     "output_type": "execute_result"
    }
   ],
   "source": [
    "import pandas as pd\n",
    "df = pd.read_csv('aapl2.csv')\n",
    "df.head()"
   ]
  },
  {
   "cell_type": "code",
   "execution_count": 2,
   "metadata": {},
   "outputs": [
    {
     "data": {
      "text/plain": [
       "(2517, 6)"
      ]
     },
     "execution_count": 2,
     "metadata": {},
     "output_type": "execute_result"
    }
   ],
   "source": [
    "df.shape"
   ]
  },
  {
   "cell_type": "code",
   "execution_count": 3,
   "metadata": {},
   "outputs": [
    {
     "data": {
      "text/plain": [
       "Index(['Date', ' Close/Last', ' Volume', ' Open', ' High', ' Low'], dtype='object')"
      ]
     },
     "execution_count": 3,
     "metadata": {},
     "output_type": "execute_result"
    }
   ],
   "source": [
    "df.columns"
   ]
  },
  {
   "cell_type": "code",
   "execution_count": 4,
   "metadata": {},
   "outputs": [
    {
     "data": {
      "text/plain": [
       "Index(['Date', 'Close', 'Volume', 'Open', 'High', 'Low'], dtype='object')"
      ]
     },
     "execution_count": 4,
     "metadata": {},
     "output_type": "execute_result"
    }
   ],
   "source": [
    "df.columns = df.columns.str.lstrip()\n",
    "df.rename({'Close/Last':'Close'}, axis=1, inplace=True)\n",
    "df.columns"
   ]
  },
  {
   "cell_type": "code",
   "execution_count": 5,
   "metadata": {
    "scrolled": true
   },
   "outputs": [
    {
     "data": {
      "text/html": [
       "<div>\n",
       "<style scoped>\n",
       "    .dataframe tbody tr th:only-of-type {\n",
       "        vertical-align: middle;\n",
       "    }\n",
       "\n",
       "    .dataframe tbody tr th {\n",
       "        vertical-align: top;\n",
       "    }\n",
       "\n",
       "    .dataframe thead th {\n",
       "        text-align: right;\n",
       "    }\n",
       "</style>\n",
       "<table border=\"1\" class=\"dataframe\">\n",
       "  <thead>\n",
       "    <tr style=\"text-align: right;\">\n",
       "      <th></th>\n",
       "      <th>Date</th>\n",
       "      <th>Close</th>\n",
       "      <th>Volume</th>\n",
       "      <th>Open</th>\n",
       "      <th>High</th>\n",
       "      <th>Low</th>\n",
       "    </tr>\n",
       "  </thead>\n",
       "  <tbody>\n",
       "    <tr>\n",
       "      <td>0</td>\n",
       "      <td>2020-06-23</td>\n",
       "      <td>$366.53</td>\n",
       "      <td>53038870</td>\n",
       "      <td>$364</td>\n",
       "      <td>$372.38</td>\n",
       "      <td>$362.2701</td>\n",
       "    </tr>\n",
       "    <tr>\n",
       "      <td>1</td>\n",
       "      <td>2020-06-22</td>\n",
       "      <td>$358.87</td>\n",
       "      <td>33861320</td>\n",
       "      <td>$351.34</td>\n",
       "      <td>$359.46</td>\n",
       "      <td>$351.15</td>\n",
       "    </tr>\n",
       "    <tr>\n",
       "      <td>2</td>\n",
       "      <td>2020-06-19</td>\n",
       "      <td>$349.72</td>\n",
       "      <td>66118950</td>\n",
       "      <td>$354.635</td>\n",
       "      <td>$356.56</td>\n",
       "      <td>$345.15</td>\n",
       "    </tr>\n",
       "    <tr>\n",
       "      <td>3</td>\n",
       "      <td>2020-06-18</td>\n",
       "      <td>$351.73</td>\n",
       "      <td>24205100</td>\n",
       "      <td>$351.41</td>\n",
       "      <td>$353.45</td>\n",
       "      <td>$349.22</td>\n",
       "    </tr>\n",
       "    <tr>\n",
       "      <td>4</td>\n",
       "      <td>2020-06-17</td>\n",
       "      <td>$351.59</td>\n",
       "      <td>28601630</td>\n",
       "      <td>$355.15</td>\n",
       "      <td>$355.4</td>\n",
       "      <td>$351.09</td>\n",
       "    </tr>\n",
       "  </tbody>\n",
       "</table>\n",
       "</div>"
      ],
      "text/plain": [
       "        Date     Close    Volume       Open      High         Low\n",
       "0 2020-06-23   $366.53  53038870       $364   $372.38   $362.2701\n",
       "1 2020-06-22   $358.87  33861320    $351.34   $359.46     $351.15\n",
       "2 2020-06-19   $349.72  66118950   $354.635   $356.56     $345.15\n",
       "3 2020-06-18   $351.73  24205100    $351.41   $353.45     $349.22\n",
       "4 2020-06-17   $351.59  28601630    $355.15    $355.4     $351.09"
      ]
     },
     "execution_count": 5,
     "metadata": {},
     "output_type": "execute_result"
    }
   ],
   "source": [
    "df['Date'] = pd.to_datetime(df.Date)\n",
    "df.head()"
   ]
  },
  {
   "cell_type": "code",
   "execution_count": 6,
   "metadata": {},
   "outputs": [
    {
     "data": {
      "text/plain": [
       "Date      datetime64[ns]\n",
       "Close             object\n",
       "Volume             int64\n",
       "Open              object\n",
       "High              object\n",
       "Low               object\n",
       "dtype: object"
      ]
     },
     "execution_count": 6,
     "metadata": {},
     "output_type": "execute_result"
    }
   ],
   "source": [
    "df.dtypes"
   ]
  },
  {
   "cell_type": "code",
   "execution_count": 7,
   "metadata": {},
   "outputs": [
    {
     "data": {
      "text/html": [
       "<div>\n",
       "<style scoped>\n",
       "    .dataframe tbody tr th:only-of-type {\n",
       "        vertical-align: middle;\n",
       "    }\n",
       "\n",
       "    .dataframe tbody tr th {\n",
       "        vertical-align: top;\n",
       "    }\n",
       "\n",
       "    .dataframe thead th {\n",
       "        text-align: right;\n",
       "    }\n",
       "</style>\n",
       "<table border=\"1\" class=\"dataframe\">\n",
       "  <thead>\n",
       "    <tr style=\"text-align: right;\">\n",
       "      <th></th>\n",
       "      <th>Close</th>\n",
       "      <th>Volume</th>\n",
       "      <th>Open</th>\n",
       "      <th>High</th>\n",
       "      <th>Low</th>\n",
       "    </tr>\n",
       "    <tr>\n",
       "      <th>Date</th>\n",
       "      <th></th>\n",
       "      <th></th>\n",
       "      <th></th>\n",
       "      <th></th>\n",
       "      <th></th>\n",
       "    </tr>\n",
       "  </thead>\n",
       "  <tbody>\n",
       "    <tr>\n",
       "      <td>2020-06-23</td>\n",
       "      <td>$366.53</td>\n",
       "      <td>53038870</td>\n",
       "      <td>$364</td>\n",
       "      <td>$372.38</td>\n",
       "      <td>$362.2701</td>\n",
       "    </tr>\n",
       "    <tr>\n",
       "      <td>2020-06-22</td>\n",
       "      <td>$358.87</td>\n",
       "      <td>33861320</td>\n",
       "      <td>$351.34</td>\n",
       "      <td>$359.46</td>\n",
       "      <td>$351.15</td>\n",
       "    </tr>\n",
       "    <tr>\n",
       "      <td>2020-06-19</td>\n",
       "      <td>$349.72</td>\n",
       "      <td>66118950</td>\n",
       "      <td>$354.635</td>\n",
       "      <td>$356.56</td>\n",
       "      <td>$345.15</td>\n",
       "    </tr>\n",
       "    <tr>\n",
       "      <td>2020-06-18</td>\n",
       "      <td>$351.73</td>\n",
       "      <td>24205100</td>\n",
       "      <td>$351.41</td>\n",
       "      <td>$353.45</td>\n",
       "      <td>$349.22</td>\n",
       "    </tr>\n",
       "    <tr>\n",
       "      <td>2020-06-17</td>\n",
       "      <td>$351.59</td>\n",
       "      <td>28601630</td>\n",
       "      <td>$355.15</td>\n",
       "      <td>$355.4</td>\n",
       "      <td>$351.09</td>\n",
       "    </tr>\n",
       "  </tbody>\n",
       "</table>\n",
       "</div>"
      ],
      "text/plain": [
       "               Close    Volume       Open      High         Low\n",
       "Date                                                           \n",
       "2020-06-23   $366.53  53038870       $364   $372.38   $362.2701\n",
       "2020-06-22   $358.87  33861320    $351.34   $359.46     $351.15\n",
       "2020-06-19   $349.72  66118950   $354.635   $356.56     $345.15\n",
       "2020-06-18   $351.73  24205100    $351.41   $353.45     $349.22\n",
       "2020-06-17   $351.59  28601630    $355.15    $355.4     $351.09"
      ]
     },
     "execution_count": 7,
     "metadata": {},
     "output_type": "execute_result"
    }
   ],
   "source": [
    "df = df.set_index('Date')\n",
    "df.head()"
   ]
  },
  {
   "cell_type": "code",
   "execution_count": 8,
   "metadata": {},
   "outputs": [
    {
     "data": {
      "text/plain": [
       "Close     object\n",
       "Volume     int64\n",
       "Open      object\n",
       "High      object\n",
       "Low       object\n",
       "dtype: object"
      ]
     },
     "execution_count": 8,
     "metadata": {},
     "output_type": "execute_result"
    }
   ],
   "source": [
    "df.dtypes"
   ]
  },
  {
   "cell_type": "code",
   "execution_count": 9,
   "metadata": {},
   "outputs": [],
   "source": [
    "def convert_to_float(x):\n",
    "    if '$' in str(x):\n",
    "        x = x.split('$')[1]\n",
    "        return float(x)\n",
    "    return float(x)"
   ]
  },
  {
   "cell_type": "code",
   "execution_count": 11,
   "metadata": {},
   "outputs": [
    {
     "data": {
      "text/html": [
       "<div>\n",
       "<style scoped>\n",
       "    .dataframe tbody tr th:only-of-type {\n",
       "        vertical-align: middle;\n",
       "    }\n",
       "\n",
       "    .dataframe tbody tr th {\n",
       "        vertical-align: top;\n",
       "    }\n",
       "\n",
       "    .dataframe thead th {\n",
       "        text-align: right;\n",
       "    }\n",
       "</style>\n",
       "<table border=\"1\" class=\"dataframe\">\n",
       "  <thead>\n",
       "    <tr style=\"text-align: right;\">\n",
       "      <th></th>\n",
       "      <th>Close</th>\n",
       "      <th>Volume</th>\n",
       "      <th>Open</th>\n",
       "      <th>High</th>\n",
       "      <th>Low</th>\n",
       "    </tr>\n",
       "    <tr>\n",
       "      <th>Date</th>\n",
       "      <th></th>\n",
       "      <th></th>\n",
       "      <th></th>\n",
       "      <th></th>\n",
       "      <th></th>\n",
       "    </tr>\n",
       "  </thead>\n",
       "  <tbody>\n",
       "    <tr>\n",
       "      <td>2020-06-23</td>\n",
       "      <td>366.53</td>\n",
       "      <td>53038870</td>\n",
       "      <td>364.000</td>\n",
       "      <td>372.38</td>\n",
       "      <td>362.2701</td>\n",
       "    </tr>\n",
       "    <tr>\n",
       "      <td>2020-06-22</td>\n",
       "      <td>358.87</td>\n",
       "      <td>33861320</td>\n",
       "      <td>351.340</td>\n",
       "      <td>359.46</td>\n",
       "      <td>351.1500</td>\n",
       "    </tr>\n",
       "    <tr>\n",
       "      <td>2020-06-19</td>\n",
       "      <td>349.72</td>\n",
       "      <td>66118950</td>\n",
       "      <td>354.635</td>\n",
       "      <td>356.56</td>\n",
       "      <td>345.1500</td>\n",
       "    </tr>\n",
       "    <tr>\n",
       "      <td>2020-06-18</td>\n",
       "      <td>351.73</td>\n",
       "      <td>24205100</td>\n",
       "      <td>351.410</td>\n",
       "      <td>353.45</td>\n",
       "      <td>349.2200</td>\n",
       "    </tr>\n",
       "    <tr>\n",
       "      <td>2020-06-17</td>\n",
       "      <td>351.59</td>\n",
       "      <td>28601630</td>\n",
       "      <td>355.150</td>\n",
       "      <td>355.40</td>\n",
       "      <td>351.0900</td>\n",
       "    </tr>\n",
       "  </tbody>\n",
       "</table>\n",
       "</div>"
      ],
      "text/plain": [
       "             Close    Volume     Open    High       Low\n",
       "Date                                                   \n",
       "2020-06-23  366.53  53038870  364.000  372.38  362.2701\n",
       "2020-06-22  358.87  33861320  351.340  359.46  351.1500\n",
       "2020-06-19  349.72  66118950  354.635  356.56  345.1500\n",
       "2020-06-18  351.73  24205100  351.410  353.45  349.2200\n",
       "2020-06-17  351.59  28601630  355.150  355.40  351.0900"
      ]
     },
     "execution_count": 11,
     "metadata": {},
     "output_type": "execute_result"
    }
   ],
   "source": [
    "df1 = df.copy()\n",
    "df1['Close'] = df1['Close'].apply(convert_to_float)\n",
    "df1['Open'] = df1['Open'].apply(convert_to_float)\n",
    "df1['High'] = df1['High'].apply(convert_to_float)\n",
    "df1['Low'] = df1['Low'].apply(convert_to_float)\n",
    "df1.head()"
   ]
  },
  {
   "cell_type": "code",
   "execution_count": 12,
   "metadata": {},
   "outputs": [],
   "source": [
    "df1.to_csv('aapl1.csv')"
   ]
  }
 ],
 "metadata": {
  "kernelspec": {
   "display_name": "Python 3",
   "language": "python",
   "name": "python3"
  },
  "language_info": {
   "codemirror_mode": {
    "name": "ipython",
    "version": 3
   },
   "file_extension": ".py",
   "mimetype": "text/x-python",
   "name": "python",
   "nbconvert_exporter": "python",
   "pygments_lexer": "ipython3",
   "version": "3.7.4"
  }
 },
 "nbformat": 4,
 "nbformat_minor": 2
}
